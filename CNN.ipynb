{
  "nbformat": 4,
  "nbformat_minor": 0,
  "metadata": {
    "kernelspec": {
      "display_name": "Python 3",
      "language": "python",
      "name": "python3"
    },
    "language_info": {
      "codemirror_mode": {
        "name": "ipython",
        "version": 3
      },
      "file_extension": ".py",
      "mimetype": "text/x-python",
      "name": "python",
      "nbconvert_exporter": "python",
      "pygments_lexer": "ipython3",
      "version": "3.7.4"
    },
    "colab": {
      "name": "1.14.ipynb",
      "provenance": [],
      "collapsed_sections": [],
      "include_colab_link": true
    },
    "accelerator": "GPU",
    "widgets": {
      "application/vnd.jupyter.widget-state+json": {
        "31dd58c9402d492c9044b7d5bb428065": {
          "model_module": "@jupyter-widgets/controls",
          "model_name": "HBoxModel",
          "state": {
            "_view_name": "HBoxView",
            "_dom_classes": [],
            "_model_name": "HBoxModel",
            "_view_module": "@jupyter-widgets/controls",
            "_model_module_version": "1.5.0",
            "_view_count": null,
            "_view_module_version": "1.5.0",
            "box_style": "",
            "layout": "IPY_MODEL_c1b6f79f39e84054b0facad38c27260c",
            "_model_module": "@jupyter-widgets/controls",
            "children": [
              "IPY_MODEL_6e0f9ff4888545c48661bfeab9c75e85",
              "IPY_MODEL_0ab7ce01f8ff4cdcba668af131b303f6"
            ]
          }
        },
        "c1b6f79f39e84054b0facad38c27260c": {
          "model_module": "@jupyter-widgets/base",
          "model_name": "LayoutModel",
          "state": {
            "_view_name": "LayoutView",
            "grid_template_rows": null,
            "right": null,
            "justify_content": null,
            "_view_module": "@jupyter-widgets/base",
            "overflow": null,
            "_model_module_version": "1.2.0",
            "_view_count": null,
            "flex_flow": null,
            "width": null,
            "min_width": null,
            "border": null,
            "align_items": null,
            "bottom": null,
            "_model_module": "@jupyter-widgets/base",
            "top": null,
            "grid_column": null,
            "overflow_y": null,
            "overflow_x": null,
            "grid_auto_flow": null,
            "grid_area": null,
            "grid_template_columns": null,
            "flex": null,
            "_model_name": "LayoutModel",
            "justify_items": null,
            "grid_row": null,
            "max_height": null,
            "align_content": null,
            "visibility": null,
            "align_self": null,
            "height": null,
            "min_height": null,
            "padding": null,
            "grid_auto_rows": null,
            "grid_gap": null,
            "max_width": null,
            "order": null,
            "_view_module_version": "1.2.0",
            "grid_template_areas": null,
            "object_position": null,
            "object_fit": null,
            "grid_auto_columns": null,
            "margin": null,
            "display": null,
            "left": null
          }
        },
        "6e0f9ff4888545c48661bfeab9c75e85": {
          "model_module": "@jupyter-widgets/controls",
          "model_name": "FloatProgressModel",
          "state": {
            "_view_name": "ProgressView",
            "style": "IPY_MODEL_df10b37d52d146bba8bfe80e524a2298",
            "_dom_classes": [],
            "description": "",
            "_model_name": "FloatProgressModel",
            "bar_style": "info",
            "max": 1,
            "_view_module": "@jupyter-widgets/controls",
            "_model_module_version": "1.5.0",
            "value": 1,
            "_view_count": null,
            "_view_module_version": "1.5.0",
            "orientation": "horizontal",
            "min": 0,
            "description_tooltip": null,
            "_model_module": "@jupyter-widgets/controls",
            "layout": "IPY_MODEL_cb602890f76e4952aa1d4242e0106c51"
          }
        },
        "0ab7ce01f8ff4cdcba668af131b303f6": {
          "model_module": "@jupyter-widgets/controls",
          "model_name": "HTMLModel",
          "state": {
            "_view_name": "HTMLView",
            "style": "IPY_MODEL_1ab2a223e8574620abe37d5141667415",
            "_dom_classes": [],
            "description": "",
            "_model_name": "HTMLModel",
            "placeholder": "​",
            "_view_module": "@jupyter-widgets/controls",
            "_model_module_version": "1.5.0",
            "value": " 170500096/? [00:30&lt;00:00, 17486280.95it/s]",
            "_view_count": null,
            "_view_module_version": "1.5.0",
            "description_tooltip": null,
            "_model_module": "@jupyter-widgets/controls",
            "layout": "IPY_MODEL_d61f0b3015524bf28a6fcf3129f061c2"
          }
        },
        "df10b37d52d146bba8bfe80e524a2298": {
          "model_module": "@jupyter-widgets/controls",
          "model_name": "ProgressStyleModel",
          "state": {
            "_view_name": "StyleView",
            "_model_name": "ProgressStyleModel",
            "description_width": "initial",
            "_view_module": "@jupyter-widgets/base",
            "_model_module_version": "1.5.0",
            "_view_count": null,
            "_view_module_version": "1.2.0",
            "bar_color": null,
            "_model_module": "@jupyter-widgets/controls"
          }
        },
        "cb602890f76e4952aa1d4242e0106c51": {
          "model_module": "@jupyter-widgets/base",
          "model_name": "LayoutModel",
          "state": {
            "_view_name": "LayoutView",
            "grid_template_rows": null,
            "right": null,
            "justify_content": null,
            "_view_module": "@jupyter-widgets/base",
            "overflow": null,
            "_model_module_version": "1.2.0",
            "_view_count": null,
            "flex_flow": null,
            "width": null,
            "min_width": null,
            "border": null,
            "align_items": null,
            "bottom": null,
            "_model_module": "@jupyter-widgets/base",
            "top": null,
            "grid_column": null,
            "overflow_y": null,
            "overflow_x": null,
            "grid_auto_flow": null,
            "grid_area": null,
            "grid_template_columns": null,
            "flex": null,
            "_model_name": "LayoutModel",
            "justify_items": null,
            "grid_row": null,
            "max_height": null,
            "align_content": null,
            "visibility": null,
            "align_self": null,
            "height": null,
            "min_height": null,
            "padding": null,
            "grid_auto_rows": null,
            "grid_gap": null,
            "max_width": null,
            "order": null,
            "_view_module_version": "1.2.0",
            "grid_template_areas": null,
            "object_position": null,
            "object_fit": null,
            "grid_auto_columns": null,
            "margin": null,
            "display": null,
            "left": null
          }
        },
        "1ab2a223e8574620abe37d5141667415": {
          "model_module": "@jupyter-widgets/controls",
          "model_name": "DescriptionStyleModel",
          "state": {
            "_view_name": "StyleView",
            "_model_name": "DescriptionStyleModel",
            "description_width": "",
            "_view_module": "@jupyter-widgets/base",
            "_model_module_version": "1.5.0",
            "_view_count": null,
            "_view_module_version": "1.2.0",
            "_model_module": "@jupyter-widgets/controls"
          }
        },
        "d61f0b3015524bf28a6fcf3129f061c2": {
          "model_module": "@jupyter-widgets/base",
          "model_name": "LayoutModel",
          "state": {
            "_view_name": "LayoutView",
            "grid_template_rows": null,
            "right": null,
            "justify_content": null,
            "_view_module": "@jupyter-widgets/base",
            "overflow": null,
            "_model_module_version": "1.2.0",
            "_view_count": null,
            "flex_flow": null,
            "width": null,
            "min_width": null,
            "border": null,
            "align_items": null,
            "bottom": null,
            "_model_module": "@jupyter-widgets/base",
            "top": null,
            "grid_column": null,
            "overflow_y": null,
            "overflow_x": null,
            "grid_auto_flow": null,
            "grid_area": null,
            "grid_template_columns": null,
            "flex": null,
            "_model_name": "LayoutModel",
            "justify_items": null,
            "grid_row": null,
            "max_height": null,
            "align_content": null,
            "visibility": null,
            "align_self": null,
            "height": null,
            "min_height": null,
            "padding": null,
            "grid_auto_rows": null,
            "grid_gap": null,
            "max_width": null,
            "order": null,
            "_view_module_version": "1.2.0",
            "grid_template_areas": null,
            "object_position": null,
            "object_fit": null,
            "grid_auto_columns": null,
            "margin": null,
            "display": null,
            "left": null
          }
        }
      }
    }
  },
  "cells": [
    {
      "cell_type": "markdown",
      "metadata": {
        "id": "view-in-github",
        "colab_type": "text"
      },
      "source": [
        "<a href=\"https://colab.research.google.com/github/richie-1/CNN/blob/master/CNN.ipynb\" target=\"_parent\"><img src=\"https://colab.research.google.com/assets/colab-badge.svg\" alt=\"Open In Colab\"/></a>"
      ]
    },
    {
      "cell_type": "code",
      "metadata": {
        "id": "MZzLW2DSTRR2",
        "colab_type": "code",
        "colab": {}
      },
      "source": [
        "import torch\n",
        "import torch.nn as nn\n",
        "import torchvision\n",
        "import torchvision.models as mod\n",
        "import torchvision.transforms as transforms\n",
        "from torchvision.datasets import CIFAR10 as cf\n",
        "from torch.utils.data import DataLoader as dl\n",
        "from torch.optim import Adam\n",
        "import numpy as np\n",
        "import random\n",
        "import matplotlib.pyplot as plt"
      ],
      "execution_count": 1,
      "outputs": []
    },
    {
      "cell_type": "code",
      "metadata": {
        "id": "c0HsQz-LHozo",
        "colab_type": "code",
        "colab": {
          "base_uri": "https://localhost:8080/",
          "height": 100,
          "referenced_widgets": [
            "31dd58c9402d492c9044b7d5bb428065",
            "c1b6f79f39e84054b0facad38c27260c",
            "6e0f9ff4888545c48661bfeab9c75e85",
            "0ab7ce01f8ff4cdcba668af131b303f6",
            "df10b37d52d146bba8bfe80e524a2298",
            "cb602890f76e4952aa1d4242e0106c51",
            "1ab2a223e8574620abe37d5141667415",
            "d61f0b3015524bf28a6fcf3129f061c2"
          ]
        },
        "outputId": "76f0e43b-78a2-4ee0-8464-d067a9ffa233"
      },
      "source": [
        "c = cf(root = \"./data\", train=True, download = True)\n",
        "X = c.data\n",
        "Y = c.targets\n",
        "X.shape"
      ],
      "execution_count": 2,
      "outputs": [
        {
          "output_type": "stream",
          "text": [
            "Downloading https://www.cs.toronto.edu/~kriz/cifar-10-python.tar.gz to ./data/cifar-10-python.tar.gz\n"
          ],
          "name": "stdout"
        },
        {
          "output_type": "display_data",
          "data": {
            "application/vnd.jupyter.widget-view+json": {
              "model_id": "31dd58c9402d492c9044b7d5bb428065",
              "version_minor": 0,
              "version_major": 2
            },
            "text/plain": [
              "HBox(children=(FloatProgress(value=1.0, bar_style='info', max=1.0), HTML(value='')))"
            ]
          },
          "metadata": {
            "tags": []
          }
        },
        {
          "output_type": "stream",
          "text": [
            "Extracting ./data/cifar-10-python.tar.gz to ./data\n"
          ],
          "name": "stdout"
        },
        {
          "output_type": "execute_result",
          "data": {
            "text/plain": [
              "(50000, 32, 32, 3)"
            ]
          },
          "metadata": {
            "tags": []
          },
          "execution_count": 2
        }
      ]
    },
    {
      "cell_type": "code",
      "metadata": {
        "id": "5tosYFtTHpi-",
        "colab_type": "code",
        "colab": {
          "base_uri": "https://localhost:8080/",
          "height": 187
        },
        "outputId": "e7e2d517-043a-4897-e0d0-b4c2e175cf0f"
      },
      "source": [
        "c.class_to_idx"
      ],
      "execution_count": 3,
      "outputs": [
        {
          "output_type": "execute_result",
          "data": {
            "text/plain": [
              "{'airplane': 0,\n",
              " 'automobile': 1,\n",
              " 'bird': 2,\n",
              " 'cat': 3,\n",
              " 'deer': 4,\n",
              " 'dog': 5,\n",
              " 'frog': 6,\n",
              " 'horse': 7,\n",
              " 'ship': 8,\n",
              " 'truck': 9}"
            ]
          },
          "metadata": {
            "tags": []
          },
          "execution_count": 3
        }
      ]
    },
    {
      "cell_type": "code",
      "metadata": {
        "id": "vu-T9XnWHul4",
        "colab_type": "code",
        "colab": {}
      },
      "source": [
        "def display(X, Y, l, grid=(2,2)):\n",
        "    y_= [x for x, z in enumerate(Y) if l==z]\n",
        "    random.shuffle(y_)\n",
        "    r= grid[0]\n",
        "    col= grid[1]\n",
        "    fig, axes= plt.subplots(r, col)\n",
        "    fig.set_figheight(5)\n",
        "    fig.set_figwidth(5)\n",
        "    for r in axes:\n",
        "        for col in r:\n",
        "            col.imshow(X[y_.pop()])\n",
        "    plt.show()"
      ],
      "execution_count": 4,
      "outputs": []
    },
    {
      "cell_type": "code",
      "metadata": {
        "id": "hPF0J2veHvd1",
        "colab_type": "code",
        "colab": {
          "base_uri": "https://localhost:8080/",
          "height": 339
        },
        "outputId": "361eeec3-3e6d-4192-a903-13ec7e90e92b"
      },
      "source": [
        "print('Truck')\n",
        "display(X,Y,9)"
      ],
      "execution_count": 5,
      "outputs": [
        {
          "output_type": "stream",
          "text": [
            "Truck\n"
          ],
          "name": "stdout"
        },
        {
          "output_type": "display_data",
          "data": {
            "image/png": "[encoded data removed]",
            "text/plain": [
              "<Figure size 360x360 with 4 Axes>"
            ]
          },
          "metadata": {
            "tags": [],
            "needs_background": "light"
          }
        }
      ]
    },
    {
      "cell_type": "code",
      "metadata": {
        "id": "n19kFyHiHvqF",
        "colab_type": "code",
        "colab": {
          "base_uri": "https://localhost:8080/",
          "height": 339
        },
        "outputId": "b089890c-cc48-450f-c998-8c7b03792b1f"
      },
      "source": [
        "print('Horse samples')\n",
        "display(X,Y,7)"
      ],
      "execution_count": 6,
      "outputs": [
        {
          "output_type": "stream",
          "text": [
            "Horse samples\n"
          ],
          "name": "stdout"
        },
        {
          "output_type": "display_data",
          "data": {
            "image/png": "[encoded data removed]",
            "text/plain": [
              "<Figure size 360x360 with 4 Axes>"
            ]
          },
          "metadata": {
            "tags": [],
            "needs_background": "light"
          }
        }
      ]
    },
    {
      "cell_type": "code",
      "metadata": {
        "id": "vhxb12YaTRR7",
        "colab_type": "code",
        "colab": {}
      },
      "source": [
        "# Transform in train set\n",
        "transform_train = transforms.Compose([\n",
        "    transforms.ToTensor(),\n",
        "    transforms.Normalize((0.485, 0.456, 0.406), (0.229, 0.224, 0.225)),\n",
        "])\n",
        "\n",
        "# Transform in test set\n",
        "transform_test = transforms.Compose([\n",
        "    transforms.ToTensor(),\n",
        "    transforms.Normalize((0.485, 0.456, 0.406), (0.229, 0.224, 0.225)),])"
      ],
      "execution_count": 7,
      "outputs": []
    },
    {
      "cell_type": "code",
      "metadata": {
        "id": "4_eHVUSaTRR-",
        "colab_type": "code",
        "colab": {
          "base_uri": "https://localhost:8080/",
          "height": 51
        },
        "outputId": "c5674531-d2d9-4a61-d95d-b17bb63164f5"
      },
      "source": [
        "# Load train set\n",
        "tr_set = cf(root='./data', train=True, download=True, transform=transform_train)\n",
        "#Loader for train set\n",
        "tr_load = dl(tr_set, batch_size=32, shuffle=False, num_workers=4)\n",
        "# Load test set\n",
        "te_set = cf(root='./data', train=False, download=True, transform=transform_test)\n",
        "#Loader for train set\n",
        "te_load = dl(te_set, batch_size=32, shuffle=False, num_workers=4)"
      ],
      "execution_count": 8,
      "outputs": [
        {
          "output_type": "stream",
          "text": [
            "Files already downloaded and verified\n",
            "Files already downloaded and verified\n"
          ],
          "name": "stdout"
        }
      ]
    },
    {
      "cell_type": "code",
      "metadata": {
        "id": "Jbkrvp8KTRSQ",
        "colab_type": "code",
        "colab": {}
      },
      "source": [
        "class Block(nn.Module):\n",
        "    def __init__(self, Input, Output):\n",
        "        super(Block,self).__init__()\n",
        "        self.c = nn.Conv2d(in_channels=Input, out_channels=Output, kernel_size=3, stride=1, padding=1)\n",
        "        self.b = nn.BatchNorm2d(Output)\n",
        "        self.r = nn.ReLU()\n",
        "        \n",
        "    def forward(self, x):\n",
        "        out = self.c(x)\n",
        "        out = self.b(out)\n",
        "        out = self.r(out)\n",
        "        return out"
      ],
      "execution_count": 9,
      "outputs": []
    },
    {
      "cell_type": "code",
      "metadata": {
        "id": "FOcXLCIaTRST",
        "colab_type": "code",
        "colab": {}
      },
      "source": [
        "class CNN(nn.Module):\n",
        "    def __init__(self, classes):\n",
        "        super(CNN, self).__init__()\n",
        "        \n",
        "        self.cnn = nn.Sequential(\n",
        "        \n",
        "        Block(Input=3, Output=32),\n",
        "        Block(Input=32, Output=32),\n",
        "        nn.MaxPool2d(kernel_size=2),\n",
        "        Block(Input=32, Output=64),\n",
        "        Block(Input=64, Output=64),\n",
        "        nn.MaxPool2d(kernel_size=2),\n",
        "        Block(Input=64, Output=128),\n",
        "        Block(Input=128, Output=128),\n",
        "        nn.MaxPool2d(kernel_size=2),\n",
        "        Block(Input=128, Output=128),\n",
        "        nn.MaxPool2d(kernel_size=4)\n",
        "        )\n",
        "        \n",
        "        self.fc = nn.Sequential(\n",
        "        nn.Linear(128,classes),\n",
        "        )\n",
        "        \n",
        "    def forward(self, x):\n",
        "        out = self.cnn(x)\n",
        "        out = out.view(-1,128)\n",
        "        out = self.fc(out)\n",
        "        return out"
      ],
      "execution_count": 10,
      "outputs": []
    },
    {
      "cell_type": "code",
      "metadata": {
        "id": "RTtmcwKoTRSY",
        "colab_type": "code",
        "colab": {}
      },
      "source": [
        "def train(ep):\n",
        "    train_loss = []\n",
        "    acc = []\n",
        "    for epoch in range(ep):\n",
        "        model.train()\n",
        "        atr = 0\n",
        "        losstr = 0\n",
        "        t=0\n",
        "        \n",
        "        for i, (x, y) in enumerate(tr_load):\n",
        "            x, y = x.to('cuda'), y.to('cuda')\n",
        "            optimizer.zero_grad()\n",
        "            o = model(x)\n",
        "            l = loss(o, y)\n",
        "            l.backward()\n",
        "            losstr += l.item()\n",
        "            optimizer.step()\n",
        "            _, p = torch.max(o.data,1)\n",
        "            atr += (p==y.data).float().sum()\n",
        "            atr = atr.item()\n",
        "            t += y.size(0)\n",
        "        ls = losstr/(i+1)\n",
        "        train_loss.append(ls)\n",
        "        a = round(atr/t,2)\n",
        "        acc.append(a)\n",
        "        print('Training Loss after ', epoch+1,' : ',ls )\n",
        "        print('Training Accuracy after ', epoch+1 ,' : ',(atr/t))\n",
        "    plt.plot(range(ep),train_loss, label='Training loss')\n",
        "    plt.legend()\n",
        "    plt.xlabel(\"Epochs\")\n",
        "    plt.ylabel(\"Loss\")\n",
        "    plt.show()\n",
        "    plt.plot(range(ep),acc, label='Accuracy')\n",
        "    plt.legend()\n",
        "    plt.xlabel(\"Epochs\")\n",
        "    plt.ylabel(\"Accuracy\")\n",
        "    plt.show()\n",
        "    accuracytr = atr/len(tr_set)\n",
        "    print('Train accuracy :', accuracytr)\n",
        "    accte = test()\n",
        "    print('Test accuracy :', accte)\n"
      ],
      "execution_count": 11,
      "outputs": []
    },
    {
      "cell_type": "code",
      "metadata": {
        "id": "7jPSp5FrTRSb",
        "colab_type": "code",
        "colab": {}
      },
      "source": [
        "def test():\n",
        "    model.eval()\n",
        "    accuracyte = 0\n",
        "    ate = 0\n",
        "    for i, (x, y) in enumerate(te_load):\n",
        "        x, y = x.to('cuda'), y.to('cuda')\n",
        "        output = model(x)\n",
        "        _, p = torch.max(output.data,1)\n",
        "        ate += (p==y.data).float().sum()\n",
        "        \n",
        "    accuracyte = ate/len(te_set)\n",
        "    return accuracyte    "
      ],
      "execution_count": 12,
      "outputs": []
    },
    {
      "cell_type": "code",
      "metadata": {
        "id": "MRKY3nHv-tSx",
        "colab_type": "code",
        "colab": {}
      },
      "source": [
        "model = CNN(classes=10)\n",
        "optimizer = Adam(model.parameters(), lr=0.001, weight_decay=0.0001)\n",
        "loss = nn.CrossEntropyLoss()\n",
        "model = model.to('cuda')"
      ],
      "execution_count": 13,
      "outputs": []
    },
    {
      "cell_type": "code",
      "metadata": {
        "id": "JVZklzzZTRSd",
        "colab_type": "code",
        "colab": {
          "base_uri": "https://localhost:8080/",
          "height": 1000
        },
        "outputId": "0f77154c-ffab-4932-9631-530c96a783be"
      },
      "source": [
        "if __name__ =='__main__':\n",
        "        train(25)"
      ],
      "execution_count": 14,
      "outputs": [
        {
          "output_type": "stream",
          "text": [
            "Training Loss after  1  :  1.062723820818134\n",
            "Training Accuracy after  1  :  0.62028\n",
            "Training Loss after  2  :  0.665526126631162\n",
            "Training Accuracy after  2  :  0.76934\n",
            "Training Loss after  3  :  0.5065380377660404\n",
            "Training Accuracy after  3  :  0.82658\n",
            "Training Loss after  4  :  0.38822289387876036\n",
            "Training Accuracy after  4  :  0.86794\n",
            "Training Loss after  5  :  0.2933813538199728\n",
            "Training Accuracy after  5  :  0.90176\n",
            "Training Loss after  6  :  0.22576800364701843\n",
            "Training Accuracy after  6  :  0.92536\n",
            "Training Loss after  7  :  0.17571795147605912\n",
            "Training Accuracy after  7  :  0.93936\n",
            "Training Loss after  8  :  0.15077845144764265\n",
            "Training Accuracy after  8  :  0.94804\n",
            "Training Loss after  9  :  0.1227216983514332\n",
            "Training Accuracy after  9  :  0.95728\n",
            "Training Loss after  10  :  0.1149471708739049\n",
            "Training Accuracy after  10  :  0.95866\n",
            "Training Loss after  11  :  0.11207387993178942\n",
            "Training Accuracy after  11  :  0.96048\n",
            "Training Loss after  12  :  0.09708283863917305\n",
            "Training Accuracy after  12  :  0.96558\n",
            "Training Loss after  13  :  0.09621703306024433\n",
            "Training Accuracy after  13  :  0.96544\n",
            "Training Loss after  14  :  0.09318416194438515\n",
            "Training Accuracy after  14  :  0.9671\n",
            "Training Loss after  15  :  0.09110436355456786\n",
            "Training Accuracy after  15  :  0.96776\n",
            "Training Loss after  16  :  0.08449947741284838\n",
            "Training Accuracy after  16  :  0.96974\n",
            "Training Loss after  17  :  0.08528552362994754\n",
            "Training Accuracy after  17  :  0.97052\n",
            "Training Loss after  18  :  0.07932355344587173\n",
            "Training Accuracy after  18  :  0.97204\n",
            "Training Loss after  19  :  0.08060235527128944\n",
            "Training Accuracy after  19  :  0.97118\n",
            "Training Loss after  20  :  0.07636306662665429\n",
            "Training Accuracy after  20  :  0.97262\n",
            "Training Loss after  21  :  0.07638835881561724\n",
            "Training Accuracy after  21  :  0.97288\n",
            "Training Loss after  22  :  0.07447775330865829\n",
            "Training Accuracy after  22  :  0.97364\n",
            "Training Loss after  23  :  0.0724453050649909\n",
            "Training Accuracy after  23  :  0.97468\n",
            "Training Loss after  24  :  0.07537419149492434\n",
            "Training Accuracy after  24  :  0.97364\n",
            "Training Loss after  25  :  0.07294786149736908\n",
            "Training Accuracy after  25  :  0.97412\n"
          ],
          "name": "stdout"
        },
        {
          "output_type": "display_data",
          "data": {
            "image/png": "[encoded data removed]",
            "text/plain": [
              "<Figure size 432x288 with 1 Axes>"
            ]
          },
          "metadata": {
            "tags": [],
            "needs_background": "light"
          }
        },
        {
          "output_type": "display_data",
          "data": {
            "image/png": "[encoded data removed]",
            "text/plain": [
              "<Figure size 432x288 with 1 Axes>"
            ]
          },
          "metadata": {
            "tags": [],
            "needs_background": "light"
          }
        },
        {
          "output_type": "stream",
          "text": [
            "Train accuracy : 0.97412\n",
            "Test accuracy : tensor(0.8369, device='cuda:0')\n"
          ],
          "name": "stdout"
        }
      ]
    },
    {
      "cell_type": "code",
      "metadata": {
        "id": "qp7maImkBBOr",
        "colab_type": "code",
        "colab": {
          "base_uri": "https://localhost:8080/",
          "height": 187
        },
        "outputId": "454af201-1bb9-486f-aa0f-01c930e2fd22"
      },
      "source": [
        "#Testing classification accuracy for individual classes.\n",
        "\n",
        "cls = ('Airplane', 'Car', 'Bird', 'Cat', 'Deer', 'Dog', 'Frog', 'Horse', 'Ship', 'Truck')\n",
        "right = list(0. for i in range(10))\n",
        "total = list(0. for i in range(10))\n",
        "with torch.no_grad():\n",
        "    for i in te_load:\n",
        "        x, y = i[0].to('cuda'), i[1].to('cuda')\n",
        "        outputs = model(x)\n",
        "        _, predicted = torch.max(outputs, 1)\n",
        "        c = (predicted == y).squeeze()\n",
        "        for i in range(4):\n",
        "            label = y[i]\n",
        "            right[label] += c[i].item()\n",
        "            total[label] += 1\n",
        "\n",
        "for i in range(10):\n",
        "    print('Accuracy of',cls[i],' : %2d %%' % ( 100 * right[i] / total[i]))\n"
      ],
      "execution_count": 15,
      "outputs": [
        {
          "output_type": "stream",
          "text": [
            "Accuracy of Airplane  : 88 %\n",
            "Accuracy of Car  : 95 %\n",
            "Accuracy of Bird  : 74 %\n",
            "Accuracy of Cat  : 68 %\n",
            "Accuracy of Deer  : 85 %\n",
            "Accuracy of Dog  : 76 %\n",
            "Accuracy of Frog  : 84 %\n",
            "Accuracy of Horse  : 92 %\n",
            "Accuracy of Ship  : 90 %\n",
            "Accuracy of Truck  : 96 %\n"
          ],
          "name": "stdout"
        }
      ]
    },
    {
      "cell_type": "code",
      "metadata": {
        "id": "jXiXbqPsG6q2",
        "colab_type": "code",
        "colab": {
          "base_uri": "https://localhost:8080/",
          "height": 799
        },
        "outputId": "b1be87a3-26c0-4d95-ada3-439976504954"
      },
      "source": [
        "print(model)"
      ],
      "execution_count": 35,
      "outputs": [
        {
          "output_type": "stream",
          "text": [
            "CNN(\n",
            "  (cnn): Sequential(\n",
            "    (0): Block(\n",
            "      (c): Conv2d(3, 32, kernel_size=(3, 3), stride=(1, 1), padding=(1, 1))\n",
            "      (b): BatchNorm2d(32, eps=1e-05, momentum=0.1, affine=True, track_running_stats=True)\n",
            "      (r): ReLU()\n",
            "    )\n",
            "    (1): Block(\n",
            "      (c): Conv2d(32, 32, kernel_size=(3, 3), stride=(1, 1), padding=(1, 1))\n",
            "      (b): BatchNorm2d(32, eps=1e-05, momentum=0.1, affine=True, track_running_stats=True)\n",
            "      (r): ReLU()\n",
            "    )\n",
            "    (2): MaxPool2d(kernel_size=2, stride=2, padding=0, dilation=1, ceil_mode=False)\n",
            "    (3): Block(\n",
            "      (c): Conv2d(32, 64, kernel_size=(3, 3), stride=(1, 1), padding=(1, 1))\n",
            "      (b): BatchNorm2d(64, eps=1e-05, momentum=0.1, affine=True, track_running_stats=True)\n",
            "      (r): ReLU()\n",
            "    )\n",
            "    (4): Block(\n",
            "      (c): Conv2d(64, 64, kernel_size=(3, 3), stride=(1, 1), padding=(1, 1))\n",
            "      (b): BatchNorm2d(64, eps=1e-05, momentum=0.1, affine=True, track_running_stats=True)\n",
            "      (r): ReLU()\n",
            "    )\n",
            "    (5): MaxPool2d(kernel_size=2, stride=2, padding=0, dilation=1, ceil_mode=False)\n",
            "    (6): Block(\n",
            "      (c): Conv2d(64, 128, kernel_size=(3, 3), stride=(1, 1), padding=(1, 1))\n",
            "      (b): BatchNorm2d(128, eps=1e-05, momentum=0.1, affine=True, track_running_stats=True)\n",
            "      (r): ReLU()\n",
            "    )\n",
            "    (7): Block(\n",
            "      (c): Conv2d(128, 128, kernel_size=(3, 3), stride=(1, 1), padding=(1, 1))\n",
            "      (b): BatchNorm2d(128, eps=1e-05, momentum=0.1, affine=True, track_running_stats=True)\n",
            "      (r): ReLU()\n",
            "    )\n",
            "    (8): MaxPool2d(kernel_size=2, stride=2, padding=0, dilation=1, ceil_mode=False)\n",
            "    (9): Block(\n",
            "      (c): Conv2d(128, 128, kernel_size=(3, 3), stride=(1, 1), padding=(1, 1))\n",
            "      (b): BatchNorm2d(128, eps=1e-05, momentum=0.1, affine=True, track_running_stats=True)\n",
            "      (r): ReLU()\n",
            "    )\n",
            "    (10): MaxPool2d(kernel_size=4, stride=4, padding=0, dilation=1, ceil_mode=False)\n",
            "  )\n",
            "  (fc): Sequential(\n",
            "    (0): Linear(in_features=128, out_features=10, bias=True)\n",
            "  )\n",
            ")\n"
          ],
          "name": "stdout"
        }
      ]
    },
    {
      "cell_type": "code",
      "metadata": {
        "id": "5Bbbq9rLYScI",
        "colab_type": "code",
        "colab": {}
      },
      "source": [
        "# Data Augmentation"
      ],
      "execution_count": 17,
      "outputs": []
    },
    {
      "cell_type": "code",
      "metadata": {
        "id": "Rb5oP_bSIDC0",
        "colab_type": "code",
        "colab": {}
      },
      "source": [
        "# Data augmentation in train set\n",
        "transform_train = transforms.Compose([\n",
        "    transforms.RandomCrop(32, padding=4),\n",
        "    transforms.RandomHorizontalFlip(),\n",
        "    transforms.ToTensor(),\n",
        "    transforms.Normalize((0.485, 0.456, 0.406), (0.229, 0.224, 0.225)),\n",
        "])\n",
        "\n",
        "#No data augmentation in test set\n",
        "transform_test = transforms.Compose([\n",
        "    transforms.ToTensor(),\n",
        "    transforms.Normalize((0.485, 0.456, 0.406), (0.229, 0.224, 0.225)),])"
      ],
      "execution_count": 18,
      "outputs": []
    },
    {
      "cell_type": "code",
      "metadata": {
        "id": "sDhHSp1UIN0_",
        "colab_type": "code",
        "colab": {
          "base_uri": "https://localhost:8080/",
          "height": 51
        },
        "outputId": "73f7d374-a072-4381-bf8d-8dcf815903ff"
      },
      "source": [
        "# Load train set\n",
        "tr_set = cf(root='./data', train=True, download=True, transform=transform_train)\n",
        "#Loader for train set\n",
        "tr_load = dl(tr_set, batch_size=32, shuffle=False, num_workers=4)\n",
        "# Load test set\n",
        "te_set = cf(root='./data', train=False, download=True, transform=transform_test)\n",
        "#Loader for train set\n",
        "te_load = dl(te_set, batch_size=32, shuffle=False, num_workers=4)"
      ],
      "execution_count": 19,
      "outputs": [
        {
          "output_type": "stream",
          "text": [
            "Files already downloaded and verified\n",
            "Files already downloaded and verified\n"
          ],
          "name": "stdout"
        }
      ]
    },
    {
      "cell_type": "code",
      "metadata": {
        "id": "WtnAJfeyIbdB",
        "colab_type": "code",
        "colab": {
          "base_uri": "https://localhost:8080/",
          "height": 1000
        },
        "outputId": "7104c5ef-36fb-4f56-cd6a-46bfbeed69a3"
      },
      "source": [
        "if __name__ =='__main__':\n",
        "        print('After Data Augmentation')\n",
        "        train(25)"
      ],
      "execution_count": 20,
      "outputs": [
        {
          "output_type": "stream",
          "text": [
            "After Data Augmentation\n",
            "Training Loss after  1  :  0.6282495262240723\n",
            "Training Accuracy after  1  :  0.8036\n",
            "Training Loss after  2  :  0.4652744691416154\n",
            "Training Accuracy after  2  :  0.84246\n",
            "Training Loss after  3  :  0.42474269490839195\n",
            "Training Accuracy after  3  :  0.85492\n",
            "Training Loss after  4  :  0.4017102349804558\n",
            "Training Accuracy after  4  :  0.86276\n",
            "Training Loss after  5  :  0.3788107572575067\n",
            "Training Accuracy after  5  :  0.8691\n",
            "Training Loss after  6  :  0.36126593652438144\n",
            "Training Accuracy after  6  :  0.87548\n",
            "Training Loss after  7  :  0.3510779863961103\n",
            "Training Accuracy after  7  :  0.87894\n",
            "Training Loss after  8  :  0.34086404083223965\n",
            "Training Accuracy after  8  :  0.88132\n",
            "Training Loss after  9  :  0.32541890336309043\n",
            "Training Accuracy after  9  :  0.88582\n",
            "Training Loss after  10  :  0.3197474996925773\n",
            "Training Accuracy after  10  :  0.88964\n",
            "Training Loss after  11  :  0.309761571168175\n",
            "Training Accuracy after  11  :  0.8915\n",
            "Training Loss after  12  :  0.30331165148797357\n",
            "Training Accuracy after  12  :  0.89566\n",
            "Training Loss after  13  :  0.3017611093962147\n",
            "Training Accuracy after  13  :  0.89484\n",
            "Training Loss after  14  :  0.2937019228046225\n",
            "Training Accuracy after  14  :  0.89712\n",
            "Training Loss after  15  :  0.28634317653517044\n",
            "Training Accuracy after  15  :  0.89958\n",
            "Training Loss after  16  :  0.27969068313948214\n",
            "Training Accuracy after  16  :  0.90326\n",
            "Training Loss after  17  :  0.27784851974118274\n",
            "Training Accuracy after  17  :  0.90152\n",
            "Training Loss after  18  :  0.27348164391602015\n",
            "Training Accuracy after  18  :  0.90346\n",
            "Training Loss after  19  :  0.2708220480168411\n",
            "Training Accuracy after  19  :  0.90458\n",
            "Training Loss after  20  :  0.2669091036844753\n",
            "Training Accuracy after  20  :  0.90644\n",
            "Training Loss after  21  :  0.25971802445015346\n",
            "Training Accuracy after  21  :  0.9089\n",
            "Training Loss after  22  :  0.2587843631726099\n",
            "Training Accuracy after  22  :  0.90806\n",
            "Training Loss after  23  :  0.259120919238192\n",
            "Training Accuracy after  23  :  0.90962\n",
            "Training Loss after  24  :  0.2545245595774491\n",
            "Training Accuracy after  24  :  0.91102\n",
            "Training Loss after  25  :  0.25094516157284047\n",
            "Training Accuracy after  25  :  0.9117\n"
          ],
          "name": "stdout"
        },
        {
          "output_type": "display_data",
          "data": {
            "image/png": "[encoded data removed]",
            "text/plain": [
              "<Figure size 432x288 with 1 Axes>"
            ]
          },
          "metadata": {
            "tags": [],
            "needs_background": "light"
          }
        },
        {
          "output_type": "display_data",
          "data": {
            "image/png": "[encoded data removed]",
            "text/plain": [
              "<Figure size 432x288 with 1 Axes>"
            ]
          },
          "metadata": {
            "tags": [],
            "needs_background": "light"
          }
        },
        {
          "output_type": "stream",
          "text": [
            "Train accuracy : 0.9117\n",
            "Test accuracy : tensor(0.8780, device='cuda:0')\n"
          ],
          "name": "stdout"
        }
      ]
    },
    {
      "cell_type": "code",
      "metadata": {
        "id": "ZND6_FnqIsrD",
        "colab_type": "code",
        "colab": {
          "base_uri": "https://localhost:8080/",
          "height": 187
        },
        "outputId": "8f24d1d6-0767-4e05-f6ee-123c6e53987c"
      },
      "source": [
        "# Accuracy for individual classes\n",
        "\n",
        "cls = ('Airplane', 'Car', 'Bird', 'Cat', 'Deer', 'Dog', 'Frog', 'Horse', 'Ship', 'Truck')\n",
        "right = list(0. for i in range(10))\n",
        "total = list(0. for i in range(10))\n",
        "with torch.no_grad():\n",
        "    for i in te_load:\n",
        "        x, y= i[0].to('cuda'), i[1].to('cuda')\n",
        "        outputs= model(x)\n",
        "        _, predicted= torch.max(outputs, 1)\n",
        "        c= (predicted == y).squeeze()\n",
        "        for i in range(4):\n",
        "            label= y[i]\n",
        "            right[label] += c[i].item()\n",
        "            total[label] += 1\n",
        "\n",
        "for i in range(10):\n",
        "    print('Accuracy of',cls[i],' : %2d %%' % ( 100 * right[i] / total[i]))\n"
      ],
      "execution_count": 21,
      "outputs": [
        {
          "output_type": "stream",
          "text": [
            "Accuracy of Airplane  : 86 %\n",
            "Accuracy of Car  : 93 %\n",
            "Accuracy of Bird  : 84 %\n",
            "Accuracy of Cat  : 75 %\n",
            "Accuracy of Deer  : 87 %\n",
            "Accuracy of Dog  : 84 %\n",
            "Accuracy of Frog  : 93 %\n",
            "Accuracy of Horse  : 95 %\n",
            "Accuracy of Ship  : 93 %\n",
            "Accuracy of Truck  : 92 %\n"
          ],
          "name": "stdout"
        }
      ]
    },
    {
      "cell_type": "markdown",
      "metadata": {
        "id": "n_8k-Aw5TRSg",
        "colab_type": "text"
      },
      "source": [
        "# AlexNet"
      ]
    },
    {
      "cell_type": "code",
      "metadata": {
        "id": "_qwtPUoHTRSg",
        "colab_type": "code",
        "colab": {}
      },
      "source": [
        "model_alex = mod.alexnet()\n",
        "optimizer = torch.optim.SGD(model_alex.parameters(), lr=0.001, momentum=0.7)\n",
        "loss = nn.CrossEntropyLoss()\n",
        "model = model.to('cuda')"
      ],
      "execution_count": 32,
      "outputs": []
    },
    {
      "cell_type": "code",
      "metadata": {
        "id": "axhDphogTRSi",
        "colab_type": "code",
        "colab": {
          "base_uri": "https://localhost:8080/",
          "height": 1000
        },
        "outputId": "b01305af-d2c2-460a-95b5-b304ac704052"
      },
      "source": [
        "if __name__ =='__main__':\n",
        "        train(25)"
      ],
      "execution_count": 33,
      "outputs": [
        {
          "output_type": "stream",
          "text": [
            "Training Loss after  1  :  0.22518549826870876\n",
            "Training Accuracy after  1  :  0.9216\n",
            "Training Loss after  2  :  0.2215314271144202\n",
            "Training Accuracy after  2  :  0.92292\n",
            "Training Loss after  3  :  0.22474955772874985\n",
            "Training Accuracy after  3  :  0.9216\n",
            "Training Loss after  4  :  0.22403459509290036\n",
            "Training Accuracy after  4  :  0.92228\n",
            "Training Loss after  5  :  0.22558831258111478\n",
            "Training Accuracy after  5  :  0.92098\n",
            "Training Loss after  6  :  0.22313189476022946\n",
            "Training Accuracy after  6  :  0.9226\n",
            "Training Loss after  7  :  0.22137712955567806\n",
            "Training Accuracy after  7  :  0.92374\n",
            "Training Loss after  8  :  0.22126511014850186\n",
            "Training Accuracy after  8  :  0.92224\n",
            "Training Loss after  9  :  0.22435304879551124\n",
            "Training Accuracy after  9  :  0.9207\n",
            "Training Loss after  10  :  0.22446293269372852\n",
            "Training Accuracy after  10  :  0.9213\n",
            "Training Loss after  11  :  0.2230788184245256\n",
            "Training Accuracy after  11  :  0.9222\n",
            "Training Loss after  12  :  0.22297342733842912\n",
            "Training Accuracy after  12  :  0.9227\n",
            "Training Loss after  13  :  0.22054269383420128\n",
            "Training Accuracy after  13  :  0.92368\n",
            "Training Loss after  14  :  0.22611781525034136\n",
            "Training Accuracy after  14  :  0.92064\n",
            "Training Loss after  15  :  0.22450392522389737\n",
            "Training Accuracy after  15  :  0.92086\n",
            "Training Loss after  16  :  0.2269593331991425\n",
            "Training Accuracy after  16  :  0.92008\n",
            "Training Loss after  17  :  0.22362791429382825\n",
            "Training Accuracy after  17  :  0.92288\n",
            "Training Loss after  18  :  0.22552109391488712\n",
            "Training Accuracy after  18  :  0.92186\n",
            "Training Loss after  19  :  0.22093790778961755\n",
            "Training Accuracy after  19  :  0.92366\n",
            "Training Loss after  20  :  0.2232153826534405\n",
            "Training Accuracy after  20  :  0.92254\n",
            "Training Loss after  21  :  0.22432295140296088\n",
            "Training Accuracy after  21  :  0.92078\n",
            "Training Loss after  22  :  0.22470405833677687\n",
            "Training Accuracy after  22  :  0.9217\n",
            "Training Loss after  23  :  0.22461074108993176\n",
            "Training Accuracy after  23  :  0.92072\n",
            "Training Loss after  24  :  0.22173303177059459\n",
            "Training Accuracy after  24  :  0.92224\n",
            "Training Loss after  25  :  0.22365562062560368\n",
            "Training Accuracy after  25  :  0.92314\n"
          ],
          "name": "stdout"
        },
        {
          "output_type": "display_data",
          "data": {
            "image/png": "[encoded data removed]",
            "text/plain": [
              "<Figure size 432x288 with 1 Axes>"
            ]
          },
          "metadata": {
            "tags": [],
            "needs_background": "light"
          }
        },
        {
          "output_type": "display_data",
          "data": {
            "image/png": "[encoded data removed]",
            "text/plain": [
              "<Figure size 432x288 with 1 Axes>"
            ]
          },
          "metadata": {
            "tags": [],
            "needs_background": "light"
          }
        },
        {
          "output_type": "stream",
          "text": [
            "Train accuracy : 0.92314\n",
            "Test accuracy : tensor(0.8782, device='cuda:0')\n"
          ],
          "name": "stdout"
        }
      ]
    },
    {
      "cell_type": "code",
      "metadata": {
        "id": "wF436TQVLGhc",
        "colab_type": "code",
        "colab": {
          "base_uri": "https://localhost:8080/",
          "height": 187
        },
        "outputId": "128b3281-c955-48ae-90b8-71aea57f03e6"
      },
      "source": [
        "# Accuracy for individual classes\n",
        "\n",
        "cls = ('Airplane', 'Car', 'Bird', 'Cat', 'Deer', 'Dog', 'Frog', 'Horse', 'Ship', 'Truck')\n",
        "right = list(0. for i in range(10))\n",
        "total = list(0. for i in range(10))\n",
        "with torch.no_grad():\n",
        "    for i in te_load:\n",
        "        x, y= i[0].to('cuda'), i[1].to('cuda')\n",
        "        outputs= model(x)\n",
        "        _, predicted= torch.max(outputs, 1)\n",
        "        c= (predicted == y).squeeze()\n",
        "        for i in range(4):\n",
        "            label= y[i]\n",
        "            right[label] += c[i].item()\n",
        "            total[label] += 1\n",
        "\n",
        "for i in range(10):\n",
        "    print('Accuracy of',cls[i],' : %2d %%' % ( 100 * right[i] / total[i]))\n"
      ],
      "execution_count": 26,
      "outputs": [
        {
          "output_type": "stream",
          "text": [
            "Accuracy of Airplane  : 87 %\n",
            "Accuracy of Car  : 94 %\n",
            "Accuracy of Bird  : 84 %\n",
            "Accuracy of Cat  : 75 %\n",
            "Accuracy of Deer  : 85 %\n",
            "Accuracy of Dog  : 86 %\n",
            "Accuracy of Frog  : 92 %\n",
            "Accuracy of Horse  : 94 %\n",
            "Accuracy of Ship  : 92 %\n",
            "Accuracy of Truck  : 94 %\n"
          ],
          "name": "stdout"
        }
      ]
    },
    {
      "cell_type": "markdown",
      "metadata": {
        "id": "nsUla7nLTRSl",
        "colab_type": "text"
      },
      "source": [
        "# Resnet 18"
      ]
    },
    {
      "cell_type": "code",
      "metadata": {
        "id": "pjNBb7WnTRSl",
        "colab_type": "code",
        "colab": {}
      },
      "source": [
        "model_resnet18 = mod.resnet18()\n",
        "optimizer = torch.optim.SGD(model_alex.parameters(), lr=0.0001, momentum=0.9)\n",
        "loss = nn.CrossEntropyLoss()\n",
        "model = model.to('cuda')"
      ],
      "execution_count": 27,
      "outputs": []
    },
    {
      "cell_type": "code",
      "metadata": {
        "id": "3WpAMCtJTRSn",
        "colab_type": "code",
        "colab": {
          "base_uri": "https://localhost:8080/",
          "height": 1000
        },
        "outputId": "424392a0-3eaa-4a10-ab68-b26c3f983490"
      },
      "source": [
        "if __name__ =='__main__':\n",
        "        train(25)"
      ],
      "execution_count": 28,
      "outputs": [
        {
          "output_type": "stream",
          "text": [
            "Training Loss after  1  :  0.2257761369451585\n",
            "Training Accuracy after  1  :  0.92194\n",
            "Training Loss after  2  :  0.22264112833999358\n",
            "Training Accuracy after  2  :  0.92312\n",
            "Training Loss after  3  :  0.2222639028392899\n",
            "Training Accuracy after  3  :  0.92252\n",
            "Training Loss after  4  :  0.22464731226479176\n",
            "Training Accuracy after  4  :  0.92044\n",
            "Training Loss after  5  :  0.22726021975014293\n",
            "Training Accuracy after  5  :  0.92052\n",
            "Training Loss after  6  :  0.22629986069345714\n",
            "Training Accuracy after  6  :  0.92202\n",
            "Training Loss after  7  :  0.22201720228679692\n",
            "Training Accuracy after  7  :  0.92334\n",
            "Training Loss after  8  :  0.22460846064620613\n",
            "Training Accuracy after  8  :  0.9215\n",
            "Training Loss after  9  :  0.22209858358197118\n",
            "Training Accuracy after  9  :  0.92322\n",
            "Training Loss after  10  :  0.2214787722960286\n",
            "Training Accuracy after  10  :  0.92376\n",
            "Training Loss after  11  :  0.22237110107074123\n",
            "Training Accuracy after  11  :  0.9214\n",
            "Training Loss after  12  :  0.22280404203817467\n",
            "Training Accuracy after  12  :  0.92204\n",
            "Training Loss after  13  :  0.22467004072030747\n",
            "Training Accuracy after  13  :  0.92186\n",
            "Training Loss after  14  :  0.22310618453695463\n",
            "Training Accuracy after  14  :  0.92196\n",
            "Training Loss after  15  :  0.22476158124261839\n",
            "Training Accuracy after  15  :  0.9208\n",
            "Training Loss after  16  :  0.22179556733816005\n",
            "Training Accuracy after  16  :  0.92198\n",
            "Training Loss after  17  :  0.22404663487482324\n",
            "Training Accuracy after  17  :  0.92274\n",
            "Training Loss after  18  :  0.2238886194054564\n",
            "Training Accuracy after  18  :  0.92258\n",
            "Training Loss after  19  :  0.22333086393320706\n",
            "Training Accuracy after  19  :  0.92102\n",
            "Training Loss after  20  :  0.22406688528713398\n",
            "Training Accuracy after  20  :  0.9221\n",
            "Training Loss after  21  :  0.22349603076883123\n",
            "Training Accuracy after  21  :  0.92226\n",
            "Training Loss after  22  :  0.2282906480548249\n",
            "Training Accuracy after  22  :  0.92106\n",
            "Training Loss after  23  :  0.22225424175651806\n",
            "Training Accuracy after  23  :  0.9233\n",
            "Training Loss after  24  :  0.22470662809946526\n",
            "Training Accuracy after  24  :  0.92212\n",
            "Training Loss after  25  :  0.22413500564402863\n",
            "Training Accuracy after  25  :  0.92194\n"
          ],
          "name": "stdout"
        },
        {
          "output_type": "display_data",
          "data": {
            "image/png": "[encoded data removed]",
            "text/plain": [
              "<Figure size 432x288 with 1 Axes>"
            ]
          },
          "metadata": {
            "tags": [],
            "needs_background": "light"
          }
        },
        {
          "output_type": "display_data",
          "data": {
            "image/png": "[encoded data removed]",
            "text/plain": [
              "<Figure size 432x288 with 1 Axes>"
            ]
          },
          "metadata": {
            "tags": [],
            "needs_background": "light"
          }
        },
        {
          "output_type": "stream",
          "text": [
            "Train accuracy : 0.92194\n",
            "Test accuracy : tensor(0.8777, device='cuda:0')\n"
          ],
          "name": "stdout"
        }
      ]
    },
    {
      "cell_type": "code",
      "metadata": {
        "id": "KnrsS62e7-5u",
        "colab_type": "code",
        "colab": {
          "base_uri": "https://localhost:8080/",
          "height": 187
        },
        "outputId": "84185748-164e-42b2-fe4d-6bfaafcbf8a5"
      },
      "source": [
        "# Accuracy for individual classes\n",
        "\n",
        "cls = ('Airplane', 'Car', 'Bird', 'Cat', 'Deer', 'Dog', 'Frog', 'Horse', 'Ship', 'Truck')\n",
        "right = list(0. for i in range(10))\n",
        "total = list(0. for i in range(10))\n",
        "with torch.no_grad():\n",
        "    for i in te_load:\n",
        "        x, y= i[0].to('cuda'), i[1].to('cuda')\n",
        "        outputs= model(x)\n",
        "        _, predicted= torch.max(outputs, 1)\n",
        "        c= (predicted == y).squeeze()\n",
        "        for i in range(4):\n",
        "            label= y[i]\n",
        "            right[label] += c[i].item()\n",
        "            total[label] += 1\n",
        "\n",
        "for i in range(10):\n",
        "    print('Accuracy of',cls[i],' : %2d %%' % ( 100 * right[i] / total[i]))\n"
      ],
      "execution_count": 29,
      "outputs": [
        {
          "output_type": "stream",
          "text": [
            "Accuracy of Airplane  : 87 %\n",
            "Accuracy of Car  : 94 %\n",
            "Accuracy of Bird  : 83 %\n",
            "Accuracy of Cat  : 76 %\n",
            "Accuracy of Deer  : 85 %\n",
            "Accuracy of Dog  : 87 %\n",
            "Accuracy of Frog  : 91 %\n",
            "Accuracy of Horse  : 94 %\n",
            "Accuracy of Ship  : 92 %\n",
            "Accuracy of Truck  : 93 %\n"
          ],
          "name": "stdout"
        }
      ]
    },
    {
      "cell_type": "markdown",
      "metadata": {
        "id": "_5K32vZjPnro",
        "colab_type": "text"
      },
      "source": [
        "# CNN - Bonus"
      ]
    },
    {
      "cell_type": "code",
      "metadata": {
        "id": "GrFOLkWvPuYI",
        "colab_type": "code",
        "colab": {}
      },
      "source": [
        "class Block_n(nn.Module):\n",
        "    def __init__(self, Input, Output):\n",
        "        super(Block_n,self).__init__()\n",
        "        self.c = nn.Conv2d(in_channels=Input, out_channels=Output, kernel_size=3, stride=1, padding=1)\n",
        "        self.b = nn.BatchNorm2d(Output)\n",
        "        self.r = nn.ReLU()\n",
        "        self.d = nn.Dropout(p=0.2)\n",
        "        \n",
        "    def forward(self, x):\n",
        "        out = self.c(x)\n",
        "        out = self.b(out)\n",
        "        out = self.r(out)\n",
        "        out = self.d(out)\n",
        "        return out"
      ],
      "execution_count": 54,
      "outputs": []
    },
    {
      "cell_type": "code",
      "metadata": {
        "id": "_AzGLas9QZNx",
        "colab_type": "code",
        "colab": {}
      },
      "source": [
        "class CNN_m(nn.Module):\n",
        "    def __init__(self, classes):\n",
        "        super(CNN_m, self).__init__()\n",
        "        \n",
        "        self.cnn = nn.Sequential(\n",
        "        \n",
        "        Block_n(Input=3, Output=32),\n",
        "        Block_n(Input=32, Output=32),\n",
        "        nn.MaxPool2d(kernel_size=2),\n",
        "        Block_n(Input=32, Output=64),\n",
        "        Block_n(Input=64, Output=64),\n",
        "        nn.MaxPool2d(kernel_size=2),\n",
        "        Block_n(Input=64, Output=128),\n",
        "        Block_n(Input=128, Output=128),\n",
        "        nn.MaxPool2d(kernel_size=2),\n",
        "        Block_n(Input=128, Output=128),\n",
        "        nn.MaxPool2d(kernel_size=4)\n",
        "        )\n",
        "        \n",
        "        self.fc = nn.Sequential(\n",
        "        nn.Linear(128,classes),\n",
        "        )\n",
        "        \n",
        "    def forward(self, x):\n",
        "        out = self.cnn(x)\n",
        "        out = out.view(-1,128)\n",
        "        out = self.fc(out)\n",
        "        return out"
      ],
      "execution_count": 55,
      "outputs": []
    },
    {
      "cell_type": "code",
      "metadata": {
        "id": "LJl3zP_iRkg9",
        "colab_type": "code",
        "colab": {}
      },
      "source": [
        "model = CNN_m(classes=10)\n",
        "optimizer = Adam(model.parameters(), lr=0.001, weight_decay=0.0001)\n",
        "loss = nn.CrossEntropyLoss()\n",
        "model = model.to('cuda')"
      ],
      "execution_count": 56,
      "outputs": []
    },
    {
      "cell_type": "code",
      "metadata": {
        "id": "W-erxck-Roj3",
        "colab_type": "code",
        "colab": {
          "base_uri": "https://localhost:8080/",
          "height": 1000
        },
        "outputId": "65afe403-7969-4879-a074-ec885a57583a"
      },
      "source": [
        "if __name__ =='__main__':\n",
        "        print('After Data Augmentation and Droupout')\n",
        "        train(25)"
      ],
      "execution_count": 57,
      "outputs": [
        {
          "output_type": "stream",
          "text": [
            "After Data Augmentation and Droupout\n",
            "Training Loss after  1  :  1.363421208417652\n",
            "Training Accuracy after  1  :  0.5004\n",
            "Training Loss after  2  :  0.9420177589146205\n",
            "Training Accuracy after  2  :  0.66994\n",
            "Training Loss after  3  :  0.7929160148382034\n",
            "Training Accuracy after  3  :  0.72342\n",
            "Training Loss after  4  :  0.7106658856951115\n",
            "Training Accuracy after  4  :  0.75356\n",
            "Training Loss after  5  :  0.6619129597911908\n",
            "Training Accuracy after  5  :  0.76982\n",
            "Training Loss after  6  :  0.6225925485960428\n",
            "Training Accuracy after  6  :  0.78466\n",
            "Training Loss after  7  :  0.5896360634117651\n",
            "Training Accuracy after  7  :  0.79708\n",
            "Training Loss after  8  :  0.5633661388988611\n",
            "Training Accuracy after  8  :  0.80472\n",
            "Training Loss after  9  :  0.5408730591127144\n",
            "Training Accuracy after  9  :  0.81416\n",
            "Training Loss after  10  :  0.5259810703462771\n",
            "Training Accuracy after  10  :  0.81848\n",
            "Training Loss after  11  :  0.5103406226184989\n",
            "Training Accuracy after  11  :  0.82366\n",
            "Training Loss after  12  :  0.501307540886004\n",
            "Training Accuracy after  12  :  0.8273\n",
            "Training Loss after  13  :  0.4878206349532725\n",
            "Training Accuracy after  13  :  0.83084\n",
            "Training Loss after  14  :  0.4773835610939155\n",
            "Training Accuracy after  14  :  0.83508\n",
            "Training Loss after  15  :  0.4705587044973177\n",
            "Training Accuracy after  15  :  0.83784\n",
            "Training Loss after  16  :  0.4645593122448665\n",
            "Training Accuracy after  16  :  0.83816\n",
            "Training Loss after  17  :  0.4532935622738709\n",
            "Training Accuracy after  17  :  0.8443\n",
            "Training Loss after  18  :  0.44846023034997956\n",
            "Training Accuracy after  18  :  0.84558\n",
            "Training Loss after  19  :  0.4439139661170013\n",
            "Training Accuracy after  19  :  0.84494\n",
            "Training Loss after  20  :  0.4432369901423872\n",
            "Training Accuracy after  20  :  0.84558\n",
            "Training Loss after  21  :  0.436027749062004\n",
            "Training Accuracy after  21  :  0.84938\n",
            "Training Loss after  22  :  0.4276495254381071\n",
            "Training Accuracy after  22  :  0.85226\n",
            "Training Loss after  23  :  0.4269924774213014\n",
            "Training Accuracy after  23  :  0.8526\n",
            "Training Loss after  24  :  0.4183868355739216\n",
            "Training Accuracy after  24  :  0.85538\n",
            "Training Loss after  25  :  0.41992869336808714\n",
            "Training Accuracy after  25  :  0.85426\n"
          ],
          "name": "stdout"
        },
        {
          "output_type": "display_data",
          "data": {
            "image/png": "[encoded data removed]",
            "text/plain": [
              "<Figure size 432x288 with 1 Axes>"
            ]
          },
          "metadata": {
            "tags": [],
            "needs_background": "light"
          }
        },
        {
          "output_type": "display_data",
          "data": {
            "image/png": "[encoded data removed]",
            "text/plain": [
              "<Figure size 432x288 with 1 Axes>"
            ]
          },
          "metadata": {
            "tags": [],
            "needs_background": "light"
          }
        },
        {
          "output_type": "stream",
          "text": [
            "Train accuracy : 0.85426\n",
            "Test accuracy : tensor(0.8522, device='cuda:0')\n"
          ],
          "name": "stdout"
        }
      ]
    },
    {
      "cell_type": "markdown",
      "metadata": {
        "id": "I34UwwX2Xxep",
        "colab_type": "text"
      },
      "source": [
        "# End"
      ]
    }
  ]
}